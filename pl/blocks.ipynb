{
  "cells": [
    {
      "cell_type": "markdown",
      "metadata": {
      },
      "source": [
        "# Bloki"
      ]
    },
    {
      "cell_type": "markdown",
      "metadata": {
      },
      "source": [
        "## Blok\n",
        "\n",
        "<!-- ::: q-block -->\n",
        "\n",
        "### Tytuł bloku\n",
        "\n",
        "Lorem ipsum dolor sit amet, consectetur adipiscing elit. Sed egestas erat tellus, ac molestie eros convallis vitae. Ut ac enim vitae diam efficitur dignissim.\n",
        "\n",
        "Nullam pharetra imperdiet tellus, ac tristique turpis facilisis sed.\n",
        "\n",
        "<!-- ::: -->\n"
      ]
    },
    {
      "cell_type": "markdown",
      "metadata": {
      },
      "source": [
        " \n",
        "\n",
        "## Panel ćwiczeń\n",
        "\n",
        "<!-- ::: q-block.exercise -->\n",
        "\n",
        "### Tytuł ćwiczenia\n",
        "\n",
        "Lorem ipsum dolor sit amet, consectetur adipiscing elit. Duis consectetur rhoncus felis, aliquam arcu finibus eget.\n",
        "\n",
        "W bibendum nibh ut dolor ultrices sagittis. Sed imperdiet, tellus vitae mattis convallis, arcu eros suscipit justo, a consequat enim lectus vel lacus.\n",
        "\n",
        "<!-- ::: -->\n"
      ]
    },
    {
      "cell_type": "markdown",
      "metadata": {
      },
      "source": [
        " \n",
        "\n",
        "## Przypomnienie\n",
        "\n",
        "<!-- ::: q-block.reminder -->\n",
        "\n",
        "### Tytuł przypomnienia\n",
        "\n",
        "\n",
        "<summary>Szczegół jeden</summary> Lorem ipsum dolor sit amet, consectetur adipiscing elit. Aenean blandit pharetra sem ut varius. Proin non sem ipsum. Duis blandit est non tellus porta tincidunt. Sed nec neque sagittis, tristique dui a, tempus dolor.\n",
        "\n",
        "\n",
        "<summary>Szczegół drugi</summary> Lorem ipsum dolor sit amet, consectetur adipiscing elit. Donec lacinia in tortor non iaculis. Suspendisse hendrerit nisl vitae nisi fermentum, quis efficitur turpis tempus. Etiam blandit blandit ex a hendrerit. Suspendisse ornare, nulla sed auctor commodo, enim tortor vehicula erat, at consectetur elit eros nec felis.\n",
        "\n",
        "<!-- ::: -->\n"
      ]
    },
    {
      "cell_type": "markdown",
      "metadata": {
      },
      "source": [
        " \n",
        "\n",
        "## Zakładki\n",
        "\n",
        "<!-- ::: q-block.tabs -->\n",
        "\n",
        "### Tytuły zakładek\n",
        "\n",
        "<!-- ::: tab -->\n",
        "\n",
        "### Zakładka pierwsza\n",
        "\n",
        "Lorem ipsum dolor sit amet, consectetur adipiscing elit. Donec commodo nunc eu faucibus dictum.\n",
        "\n",
        "Etiam dignissim dignissim tortor, ut tincidunt ante ullamcorper id. Morbi ante nisi, pretium i ultrices in, lacinia vitae lorem. Ut ac leo ante.\n",
        "\n",
        "<!-- ::: tab -->\n",
        "\n",
        "### Zakładka druga\n",
        "\n",
        "Lorem ipsum dolor sit amet, consectetur adipiscing elit. Phasellus varius velit velit, sed malesuada ligula ullamcorper quis. Nam volutpat ante vel justo egestas, vitae dictum lectus cursus. Suspendisse ac urna justo. Orci varius natoque penatibus et magnis dis parturient montes, nascetur ridiculus mus.\n",
        "\n",
        "<!-- ::: -->\n",
        "\n",
        "<!-- ::: -->\n"
      ]
    },
    {
      "cell_type": "markdown",
      "metadata": {
      },
      "source": [
        " \n",
        "\n",
        "## Blok kodu\n"
      ]
    },
    {
      "cell_type": "code",
      "execution_count": 1,
      "metadata": {
      },
      "outputs": [
        {
          "data": {
            "text/plain": [
              "2"
            ]
          },
          "execution_count": 1,
          "metadata": {
          },
          "output_type": "execute_result"
        }
      ],
      "source": [
        "1 + 1"
      ]
    }
  ],
  "metadata": {
    "kernelspec": {
      "display_name": "Python 3",
      "language": "python",
      "name": "python3"
    },
    "language_info": {
      "codemirror_mode": {
        "name": "ipython",
        "version": 3
      },
      "file_extension": ".py",
      "mimetype": "text/x-python",
      "name": "python",
      "nbconvert_exporter": "python",
      "pygments_lexer": "ipython3",
      "version": "3.7.7"
    }
  },
  "nbformat": 4,
  "nbformat_minor": 4
}
