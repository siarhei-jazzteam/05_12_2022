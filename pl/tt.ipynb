{
  "cells": [
    {
      "cell_type": "markdown",
      "metadata": {
        "id": "wdeKOEkv1Fe8"
      },
      "source": [
        "##### Prawa autorskie 2021 Autorzy TensorFlow."
      ]
    },
    {
      "cell_type": "code",
      "execution_count": null,
      "metadata": {
        "cellView": "form",
        "id": "c2jyGuiG1gHr"
      },
      "outputs": [

      ],
      "source": [
        "#@title Licensed under the Apache License, Version 2.0 (the \"License\");\n",
        "# you may not use this file except in compliance with the License.\n",
        "# You may obtain a copy of the License at\n",
        "#\n",
        "# https://www.apache.org/licenses/LICENSE-2.0\n",
        "#\n",
        "# Unless required by applicable law or agreed to in writing, software\n",
        "# distributed under the License is distributed on an \"AS IS\" BASIS,\n",
        "# WITHOUT WARRANTIES OR CONDITIONS OF ANY KIND, either express or implied.\n",
        "# See the License for the specific language governing permissions and\n",
        "# limitations under the License."
      ]
    },
    {
      "cell_type": "markdown",
      "metadata": {
        "id": "rLsMb4vqY244"
      },
      "source": [
        "Uwaga: Możesz uruchomić ten przykład już teraz w notatniku w stylu Jupytera, nie jest wymagana żadna konfiguracja! Po prostu kliknij „Uruchom w Google Colab”\n",
        "\n",
        "<div class=\"devsite-table-wrapper\"><table class=\"tfo-notebook-buttons\" align=\"left\">\n",
        "<td><a target=\"_blank\" href=\"https://www.tensorflow.org/tfx/tutorials/model_analysis/tfma_basic\"><img src=\"https://www.tensorflow.org/images/tf_logo_32px.png\">Zobacz na TensorFlow.org</a></td>\n",
        "<td><a target=\"_blank\" href=\"https://colab.sandbox.google.com/github/tensorflow/tfx/blob/master/docs/tutorials/model_analysis/tfma_basic.ipynb\"><img src=\"https://www.tensorflow.org/images/colab_logo_32px.png\">Uruchom w Google Colab</a></td>\n",
        "<td><a target=\"_blank\" href=\"https://github.com/tensorflow/tfx/blob/master/docs/tutorials/model_analysis/tfma_basic.ipynb\"><img width=\"32px\" src=\"https://www.tensorflow.org/images/GitHub-Mark-32px.png\">Zobacz źródło na GitHub</a></td>\n",
        "<td><a target=\"_blank\" href=\"https://storage.googleapis.com/tensorflow_docs/tfx/docs/tutorials/model_analysis/tfma_basic.ipynb\"><img width=\"32px\" src=\"https://www.tensorflow.org/images/download_logo_32px.png\">Pobierz notatnik</a></td>\n",
        "</table></div>"
      ]
    },
    {
      "cell_type": "markdown",
      "metadata": {
        "id": "YuSYVbwEYNHw"
      },
      "source": [
        "# Analiza modelu TensorFlow\n",
        "\n",
        "***Przykład kluczowego komponentu TensorFlow Extended (TFX)***"
      ]
    },
    {
      "cell_type": "markdown",
      "metadata": {
        "id": "mPt5BHTwy_0F"
      },
      "source": [
        "[TensorFlow Model Analysis (TFMA)](https://www.tensorflow.org/tfx/guide/tfma) to biblioteka do przeprowadzania oceny modeli w różnych segmentach danych. TFMA wykonuje swoje obliczenia w sposób rozproszony na dużych ilościach danych przy użyciu [Apache Beam](https://beam.apache.org/documentation/programming-guide/) .\n",
        "\n",
        "Ten przykładowy notatnik colab ilustruje, w jaki sposób można wykorzystać TFMA do badania i wizualizacji wydajności modelu w odniesieniu do charakterystyki zbioru danych. Użyjemy modelu, który trenowaliśmy wcześniej, a teraz możesz pobawić się wynikami! Model, który przeszkoliliśmy, dotyczył [Chicago Taxi Example](https://github.com/tensorflow/tfx/tree/master/tfx/examples/chicago_taxi_pipeline) , który używa [zestawu danych Taxi Trips](https://data.cityofchicago.org/Transportation/Taxi-Trips/wrvz-psew) opublikowanego przez miasto Chicago. Przeglądaj pełny zestaw danych w [interfejsie użytkownika BigQuery](https://bigquery.cloud.google.com/dataset/bigquery-public-data:chicago_taxi_trips) .\n",
        "\n",
        "Jako twórca modeli i programista zastanów się, w jaki sposób wykorzystywane są te dane oraz jakie potencjalne korzyści i szkody mogą spowodować prognozy modelu. Taki model mógłby wzmocnić społeczne uprzedzenia i różnice. Czy funkcja jest istotna dla problemu, który chcesz rozwiązać, czy też wprowadzi błąd? Aby uzyskać więcej informacji, przeczytaj o <a target=\"_blank\" href=\"https://developers.google.com/machine-learning/fairness-overview/\">uczciwości ML</a> .\n",
        "\n",
        "Uwaga: Aby zrozumieć TFMA i sposób, w jaki działa z Apache Beam, musisz wiedzieć trochę o samym Apache Beam. <a target=\"_blank\" href=\"https://beam.apache.org/documentation/programming-guide/\">Przewodnik programowania wiązki</a> to świetne miejsce do rozpoczęcia."
      ]
    },
    {
      "cell_type": "markdown",
      "metadata": {
        "id": "Fnm6Mj3vTGLm"
      },
      "source": [
        "Kolumny w zbiorze danych to:\n",
        "\n",
        "<table>\n",
        "<tr>\n",
        "<td>obszar_społeczności_odbioru</td>\n",
        "<td>opłata</td>\n",
        "<td>podróż_początkowa_miesiąc</td>\n",
        "</tr>\n",
        "<tr>\n",
        "<td>godzina_rozpoczęcia_wycieczki</td>\n",
        "<td>dzień_rozpoczęcia_wycieczki</td>\n",
        "<td>trip_start_timestamp</td>\n",
        "</tr>\n",
        "<tr>\n",
        "<td>szerokość_podbierania</td>\n",
        "<td>długość_geograficzna odbioru</td>\n",
        "<td>zrzut_szerokość geograficzna</td>\n",
        "</tr>\n",
        "<tr>\n",
        "<td>dropoff_longitude</td>\n",
        "<td>podróż_mile</td>\n",
        "<td>pickup_census_tract</td>\n",
        "</tr>\n",
        "<tr>\n",
        "<td>dropoff_census_tract</td>\n",
        "<td>typ płatności</td>\n",
        "<td>firma</td>\n",
        "</tr>\n",
        "<tr>\n",
        "<td>podróż_sekund</td>\n",
        "<td>dropoff_community_area</td>\n",
        "<td>porady</td>\n",
        "</tr>\n",
        "</table>"
      ]
    },
    {
      "cell_type": "markdown",
      "metadata": {
        "id": "q7-ouHFnWAsu"
      },
      "source": [
        "## Zainstaluj rozszerzenia Jupyter\n",
        "\n",
        "Uwaga: w przypadku uruchamiania w lokalnym notatniku Jupyter te rozszerzenia Jupyter muszą zostać zainstalowane w środowisku przed uruchomieniem Jupyter.\n",
        "\n",
        "```bash\n",
        "jupyter nbextension enable --py widgetsnbextension --sys-prefix\n",
        "jupyter nbextension install --py --symlink tensorflow_model_analysis --sys-prefix\n",
        "jupyter nbextension enable --py tensorflow_model_analysis --sys-prefix\n",
        "```"
      ]
    },
    {
      "cell_type": "markdown",
      "metadata": {
        "id": "LZj-impiAD_l"
      },
      "source": [
        "## Zainstaluj analizę modelu TensorFlow (TFMA)\n",
        "\n",
        "Spowoduje to pobranie wszystkich zależności i zajmie minutę.\n"
      ]
    },
    {
      "cell_type": "code",
      "execution_count": null,
      "metadata": {
        "id": "8X32Q_lIKYxH"
      },
      "outputs": [

      ],
      "source": [
        "# Upgrade pip to the latest, and install TFMA.\n",
        "!pip install -U pip\n",
        "!pip install tensorflow-model-analysis"
      ]
    },
    {
      "cell_type": "markdown",
      "metadata": {
        "id": "k7121_u1LO5W"
      },
      "source": [
        "**Teraz musisz ponownie uruchomić środowisko wykonawcze przed uruchomieniem poniższych komórek.**"
      ]
    },
    {
      "cell_type": "code",
      "execution_count": null,
      "metadata": {
        "id": "SA2E343NAMRF"
      },
      "outputs": [

      ],
      "source": [
        "# This setup was tested with TF 2.10 and TFMA 0.41 (using colab), but it should\n",
        "# also work with the latest release.\n",
        "import sys\n",
        "\n",
        "# Confirm that we're using Python 3\n",
        "assert sys.version_info.major==3, 'This notebook must be run using Python 3.'\n",
        "\n",
        "import tensorflow as tf\n",
        "print('TF version: {}'.format(tf.__version__))\n",
        "import apache_beam as beam\n",
        "print('Beam version: {}'.format(beam.__version__))\n",
        "import tensorflow_model_analysis as tfma\n",
        "print('TFMA version: {}'.format(tfma.__version__))"
      ]
    },
    {
      "cell_type": "markdown",
      "metadata": {
        "id": "_aD7n5eECydb"
      },
      "source": [
        "**UWAGA: Powyższe dane wyjściowe powinny być wolne od błędów przed kontynuowaniem. Uruchom ponownie instalację, jeśli nadal widzisz błędy. Pamiętaj też o ponownym uruchomieniu środowiska uruchomieniowego/jądra przed przejściem do następnego kroku.**"
      ]
    },
    {
      "cell_type": "markdown",
      "metadata": {
        "id": "RptgLn2RYuK3"
      },
      "source": [
        "## Załaduj pliki\n",
        "\n",
        "Pobierzemy plik tar, który zawiera wszystko, czego potrzebujemy. To obejmuje:\n",
        "\n",
        "- Zbiory danych szkoleniowych i ewaluacyjnych\n",
        "- Schemat danych\n",
        "- Trenowanie i obsługa zapisanych modeli (keras i estymator) oraz ewaluacja zapisanych modeli (estymator)."
      ]
    },
    {
      "cell_type": "code",
      "execution_count": null,
      "metadata": {
        "id": "K4QXVIM7iglN"
      },
      "outputs": [

      ],
      "source": [
        "# Download the tar file from GCP and extract it\n",
        "import io, os, tempfile\n",
        "TAR_NAME = 'saved_models-2.2'\n",
        "BASE_DIR = tempfile.mkdtemp()\n",
        "DATA_DIR = os.path.join(BASE_DIR, TAR_NAME, 'data')\n",
        "MODELS_DIR = os.path.join(BASE_DIR, TAR_NAME, 'models')\n",
        "SCHEMA = os.path.join(BASE_DIR, TAR_NAME, 'schema.pbtxt')\n",
        "OUTPUT_DIR = os.path.join(BASE_DIR, 'output')\n",
        "\n",
        "!curl -O https://storage.googleapis.com/artifacts.tfx-oss-public.appspot.com/datasets/{TAR_NAME}.tar\n",
        "!tar xf {TAR_NAME}.tar\n",
        "!mv {TAR_NAME} {BASE_DIR}\n",
        "!rm {TAR_NAME}.tar\n",
        "\n",
        "print(\"Here's what we downloaded:\")\n",
        "!ls -R {BASE_DIR}"
      ]
    },
    {
      "cell_type": "markdown",
      "metadata": {
        "id": "_xa7ZDV1MycO"
      },
      "source": [
        "## Przeanalizuj schemat\n",
        "\n",
        "Wśród rzeczy, które pobraliśmy, był schemat dla naszych danych, który został utworzony przez [TensorFlow Data Validation](https://www.tensorflow.org/tfx/data_validation/get_started/) . Przeanalizujmy to teraz, abyśmy mogli użyć go z TFMA."
      ]
    },
    {
      "cell_type": "code",
      "execution_count": null,
      "metadata": {
        "id": "uW5eB4TPcwFw"
      },
      "outputs": [

      ],
      "source": [
        "import tensorflow as tf\n",
        "from google.protobuf import text_format\n",
        "from tensorflow.python.lib.io import file_io\n",
        "from tensorflow_metadata.proto.v0 import schema_pb2\n",
        "from tensorflow.core.example import example_pb2\n",
        "\n",
        "schema = schema_pb2.Schema()\n",
        "contents = file_io.read_file_to_string(SCHEMA)\n",
        "schema = text_format.Parse(contents, schema)"
      ]
    },
    {
      "cell_type": "markdown",
      "metadata": {
        "id": "UP3yuJxfNXRL"
      },
      "source": [
        "## Użyj schematu, aby utworzyć TFRecords\n",
        "\n",
        "Musimy dać TFMA dostęp do naszego zbioru danych, więc utwórzmy plik TFRecords. Możemy użyć naszego schematu, aby go utworzyć, ponieważ daje nam poprawny typ dla każdej funkcji."
      ]
    },
    {
      "cell_type": "code",
      "execution_count": null,
      "metadata": {
        "id": "8-wud3fPczl6"
      },
      "outputs": [

      ],
      "source": [
        "import csv\n",
        "\n",
        "datafile = os.path.join(DATA_DIR, 'eval', 'data.csv')\n",
        "reader = csv.DictReader(open(datafile, 'r'))\n",
        "examples = []\n",
        "for line in reader:\n",
        "  example = example_pb2.Example()\n",
        "  for feature in schema.feature:\n",
        "    key = feature.name\n",
        "    if feature.type == schema_pb2.FLOAT:\n",
        "      example.features.feature[key].float_list.value[:] = (\n",
        "          [float(line[key])] if len(line[key]) > 0 else [])\n",
        "    elif feature.type == schema_pb2.INT:\n",
        "      example.features.feature[key].int64_list.value[:] = (\n",
        "          [int(line[key])] if len(line[key]) > 0 else [])\n",
        "    elif feature.type == schema_pb2.BYTES:\n",
        "      example.features.feature[key].bytes_list.value[:] = (\n",
        "          [line[key].encode('utf8')] if len(line[key]) > 0 else [])\n",
        "  # Add a new column 'big_tipper' that indicates if tips was > 20% of the fare. \n",
        "  # TODO(b/157064428): Remove after label transformation is supported for Keras.\n",
        "  big_tipper = float(line['tips']) > float(line['fare']) * 0.2\n",
        "  example.features.feature['big_tipper'].float_list.value[:] = [big_tipper]\n",
        "  examples.append(example)\n",
        "\n",
        "tfrecord_file = os.path.join(BASE_DIR, 'train_data.rio')\n",
        "with tf.io.TFRecordWriter(tfrecord_file) as writer:\n",
        "  for example in examples:\n",
        "    writer.write(example.SerializeToString())\n",
        "\n",
        "!ls {tfrecord_file}"
      ]
    },
    {
      "cell_type": "markdown",
      "metadata": {
        "id": "fp8Ub7GTXH3j"
      },
      "source": [
        "## Skonfiguruj i uruchom TFMA\n",
        "\n",
        "TFMA obsługuje wiele różnych typów modeli, w tym modele TF keras, modele oparte na ogólnych interfejsach API sygnatur TF2, a także modele oparte na estymatorach TF. Przewodnik [get_started](https://www.tensorflow.org/tfx/model_analysis/get_started) zawiera pełną listę obsługiwanych typów modeli i wszelkie ograniczenia. W tym przykładzie pokażemy, jak skonfigurować model oparty na keras, a także model oparty na estymatorze, który został zapisany jako [`EvalSavedModel`](https://www.tensorflow.org/tfx/model_analysis/eval_saved_model) . Zobacz [często zadawane pytania](https://www.tensorflow.org/tfx/model_analysis/faq) , aby zobaczyć przykłady innych konfiguracji.\n",
        "\n",
        "TFMA zapewnia obsługę obliczania metryk, które były używane w czasie szkolenia (tj. metryk wbudowanych), a także metryk zdefiniowanych po zapisaniu modelu jako część ustawień konfiguracyjnych TFMA. W przypadku naszej [konfiguracji](https://www.tensorflow.org/tfx/model_analysis/setup) keras zademonstrujemy ręczne dodawanie naszych metryk i wykresów w ramach naszej konfiguracji (zobacz przewodnik [po metrykach](https://www.tensorflow.org/tfx/model_analysis/metrics) , aby uzyskać informacje na temat obsługiwanych metryk i wykresów). Do konfiguracji estymatora użyjemy wbudowanych metryk zapisanych wraz z modelem. Nasze konfiguracje obejmują również szereg specyfikacji krojenia, które omówiono bardziej szczegółowo w poniższych sekcjach.\n",
        "\n",
        "Po utworzeniu [`tfma.EvalConfig`](https://www.tensorflow.org/tfx/model_analysis/api_docs/python/tfma/EvalConfig) i [`tfma.EvalSharedModel`](https://www.tensorflow.org/tfx/model_analysis/api_docs/python/tfma/EvalSharedModel) możemy następnie uruchomić TFMA za pomocą [`tfma.run_model_analysis`](https://www.tensorflow.org/tfx/model_analysis/api_docs/python/tfma/run_model_analysis) . Spowoduje to utworzenie [`tfma.EvalResult`](https://www.tensorflow.org/tfx/model_analysis/api_docs/python/tfma/EvalResult) , którego możemy później użyć do renderowania naszych metryk i wykresów."
      ]
    },
    {
      "cell_type": "markdown",
      "metadata": {
        "id": "qgC7NdCatT8y"
      },
      "source": [
        "### Keras"
      ]
    },
    {
      "cell_type": "code",
      "execution_count": null,
      "metadata": {
        "id": "PLJxcjpjfwkx"
      },
      "outputs": [

      ],
      "source": [
        "import tensorflow_model_analysis as tfma\n",
        "\n",
        "# Setup tfma.EvalConfig settings\n",
        "keras_eval_config = text_format.Parse(\"\"\"\n",
        "  ## Model information\n",
        "  model_specs {\n",
        "    # For keras (and serving models) we need to add a `label_key`.\n",
        "    label_key: \"big_tipper\"\n",
        "  }\n",
        "\n",
        "  ## Post training metric information. These will be merged with any built-in\n",
        "  ## metrics from training.\n",
        "  metrics_specs {\n",
        "    metrics { class_name: \"ExampleCount\" }\n",
        "    metrics { class_name: \"AUC\" }\n",
        "    metrics { class_name: \"Precision\" }\n",
        "    metrics { class_name: \"Recall\" }\n",
        "    metrics { class_name: \"MeanPrediction\" }\n",
        "    metrics { class_name: \"Calibration\" }\n",
        "    metrics { class_name: \"CalibrationPlot\" }\n",
        "    metrics { class_name: \"ConfusionMatrixPlot\" }\n",
        "    # ... add additional metrics and plots ...\n",
        "  }\n",
        "\n",
        "  ## Slicing information\n",
        "  slicing_specs {}  # overall slice\n",
        "  slicing_specs {\n",
        "    feature_keys: [\"trip_start_hour\"]\n",
        "  }\n",
        "  slicing_specs {\n",
        "    feature_keys: [\"trip_start_day\"]\n",
        "  }\n",
        "  slicing_specs {\n",
        "    feature_values: {\n",
        "      key: \"trip_start_month\"\n",
        "      value: \"1\"\n",
        "    }\n",
        "  }\n",
        "\"\"\", tfma.EvalConfig())\n",
        "\n",
        "# Create a tfma.EvalSharedModel that points at our keras model.\n",
        "keras_model_path = os.path.join(MODELS_DIR, 'keras', '2')\n",
        "keras_eval_shared_model = tfma.default_eval_shared_model(\n",
        "    eval_saved_model_path=keras_model_path,\n",
        "    eval_config=keras_eval_config)\n",
        "\n",
        "keras_output_path = os.path.join(OUTPUT_DIR, 'keras')\n",
        "\n",
        "# Run TFMA\n",
        "keras_eval_result = tfma.run_model_analysis(\n",
        "    eval_shared_model=keras_eval_shared_model,\n",
        "    eval_config=keras_eval_config,\n",
        "    data_location=tfrecord_file,\n",
        "    output_path=keras_output_path)"
      ]
    },
    {
      "cell_type": "markdown",
      "metadata": {
        "id": "hMtoi_FpthQL"
      },
      "source": [
        "### Taksator"
      ]
    },
    {
      "cell_type": "code",
      "execution_count": null,
      "metadata": {
        "id": "6MJg42JVtjjj"
      },
      "outputs": [

      ],
      "source": [
        "import tensorflow_model_analysis as tfma\n",
        "\n",
        "# Setup tfma.EvalConfig settings\n",
        "estimator_eval_config = text_format.Parse(\"\"\"\n",
        "  ## Model information\n",
        "  model_specs {\n",
        "    # To use EvalSavedModel set `signature_name` to \"eval\".\n",
        "    signature_name: \"eval\"\n",
        "  }\n",
        "\n",
        "  ## Post training metric information. These will be merged with any built-in\n",
        "  ## metrics from training.\n",
        "  metrics_specs {\n",
        "    metrics { class_name: \"ConfusionMatrixPlot\" }\n",
        "    # ... add additional metrics and plots ...\n",
        "  }\n",
        "\n",
        "  ## Slicing information\n",
        "  slicing_specs {}  # overall slice\n",
        "  slicing_specs {\n",
        "    feature_keys: [\"trip_start_hour\"]\n",
        "  }\n",
        "  slicing_specs {\n",
        "    feature_keys: [\"trip_start_day\"]\n",
        "  }\n",
        "  slicing_specs {\n",
        "    feature_values: {\n",
        "      key: \"trip_start_month\"\n",
        "      value: \"1\"\n",
        "    }\n",
        "  }\n",
        "\"\"\", tfma.EvalConfig())\n",
        "\n",
        "# Create a tfma.EvalSharedModel that points at our eval saved model.\n",
        "estimator_base_model_path = os.path.join(\n",
        "    MODELS_DIR, 'estimator', 'eval_model_dir')\n",
        "estimator_model_path = os.path.join(\n",
        "    estimator_base_model_path, os.listdir(estimator_base_model_path)[0])\n",
        "estimator_eval_shared_model = tfma.default_eval_shared_model(\n",
        "    eval_saved_model_path=estimator_model_path,\n",
        "    eval_config=estimator_eval_config)\n",
        "\n",
        "estimator_output_path = os.path.join(OUTPUT_DIR, 'estimator')\n",
        "\n",
        "# Run TFMA\n",
        "estimator_eval_result = tfma.run_model_analysis(\n",
        "    eval_shared_model=estimator_eval_shared_model,\n",
        "    eval_config=estimator_eval_config,\n",
        "    data_location=tfrecord_file,\n",
        "    output_path=estimator_output_path)"
      ]
    },
    {
      "cell_type": "markdown",
      "metadata": {
        "id": "A0khNBC9FlEO"
      },
      "source": [
        "## Wizualizacja metryk i wykresów\n",
        "\n",
        "Teraz, gdy przeprowadziliśmy ocenę, spójrzmy na nasze wizualizacje przy użyciu TFMA. W poniższych przykładach zwizualizujemy wyniki przeprowadzenia oceny na modelu keras. Aby wyświetlić model oparty na estymatorze, zaktualizuj `eval_result_path` tak, aby wskazywała na naszą zmienną `estimator_output_path` ."
      ]
    },
    {
      "cell_type": "code",
      "execution_count": null,
      "metadata": {
        "id": "XFY0BqGtGkJ0"
      },
      "outputs": [

      ],
      "source": [
        "eval_result_path = keras_output_path\n",
        "# eval_result_path = estimator_output_path\n",
        "\n",
        "eval_result = keras_eval_result\n",
        "# eval_result = estimator_eval_result"
      ]
    },
    {
      "cell_type": "markdown",
      "metadata": {
        "id": "cSl9qyTCbBKR"
      },
      "source": [
        "### Metryki renderowania\n",
        "\n",
        "TFMA udostępnia interfejsy API ramek danych w [`tfma.experimental.dataframe`](https://www.tensorflow.org/tfx/model_analysis/api_docs/python/tfma/experimental) do ładowania zmaterializowanych danych wyjściowych jako [`Pandas DataFrames`](https://pandas.pydata.org/docs/reference/api/pandas.DataFrame.html) . Aby wyświetlić metryki, możesz użyć `metrics_as_dataframes(tfma.load_metrics(eval_path))` , która zwraca obiekt, który potencjalnie zawiera kilka ramek danych, po jednej dla każdego typu wartości metryki ( `double_value` , `confusion_matrix_at_thresholds` , `bytes_value` i `array_value` ). Konkretne wypełnione ramki danych zależą od wyniku eval. Tutaj jako przykład pokazujemy ramkę DataFrame `double_value` ."
      ]
    },
    {
      "cell_type": "code",
      "execution_count": null,
      "metadata": {
        "id": "hJ5_UMnWYmaE"
      },
      "outputs": [

      ],
      "source": [
        "import tensorflow_model_analysis.experimental.dataframe as tfma_dataframe\n",
        "dfs = tfma_dataframe.metrics_as_dataframes(\n",
        "  tfma.load_metrics(eval_result_path))\n",
        "\n",
        "display(dfs.double_value.head())"
      ]
    },
    {
      "cell_type": "markdown",
      "metadata": {
        "id": "QohnC7RAMu7F"
      },
      "source": [
        "Każda z ramek danych ma multiindeks kolumny z kolumnami najwyższego poziomu: `slices` , `metric_keys` i `metric_values` . Dokładne kolumny każdej grupy mogą się zmieniać w zależności od ładunku. możemy użyć API `DataFrame.columns` do sprawdzenia wszystkich kolumn z wieloma indeksami. Na przykład kolumny plasterków to „Overall”, „trip_start_day”, „trip_start_hour” i „trip_start_month”, które są konfigurowane przez `slicing_specs` w pliku `eval_config` ."
      ]
    },
    {
      "cell_type": "code",
      "execution_count": null,
      "metadata": {
        "id": "CGscUL2KMyWn"
      },
      "outputs": [

      ],
      "source": [
        "print(dfs.double_value.columns)"
      ]
    },
    {
      "cell_type": "markdown",
      "metadata": {
        "id": "LJuxvGCpn4yF"
      },
      "source": [
        "### Automatyczne obracanie\n",
        "\n",
        "DataFrame jest projektowany szczegółowo, więc nie ma utraty informacji z ładunku. Czasami jednak, do bezpośredniego wykorzystania, możemy chcieć uporządkować informacje w bardziej zwięzłej, ale stratnej formie: wycinki jako wiersze i metryki jako kolumny. W tym celu TFMA udostępnia interfejs API `auto_pivot` . Narzędzie obraca się na wszystkich nieunikatowych kolumnach wewnątrz `metric_keys` i domyślnie skupia wszystkie wycinki w jednej kolumnie `stringified_slices` ."
      ]
    },
    {
      "cell_type": "code",
      "execution_count": null,
      "metadata": {
        "id": "NWDGhnEoK1HM"
      },
      "outputs": [

      ],
      "source": [
        "tfma_dataframe.auto_pivot(dfs.double_value).head()"
      ]
    },
    {
      "cell_type": "markdown",
      "metadata": {
        "id": "cQT-1Ckcnd_7"
      },
      "source": [
        "### Filtrowanie plasterków\n",
        "\n",
        "Ponieważ dane wyjściowe to DataFrame, dowolne natywne interfejsy API DataFrame mogą być używane do krojenia i krojenia DataFrame. Na przykład, jeśli interesuje nas tylko `trip_start_hour` 1, 3, 5, 7, a nie `trip_start_day` , możemy użyć logiki filtrowania `.loc` DataFrame. Ponownie używamy funkcji `auto_pivot` , aby ponownie zorganizować ramkę DataFrame w widoku plasterek vs. metryki po przeprowadzeniu filtrowania."
      ]
    },
    {
      "cell_type": "code",
      "execution_count": null,
      "metadata": {
        "id": "UOfquHOHK_uE"
      },
      "outputs": [

      ],
      "source": [
        "df_double = dfs.double_value\n",
        "df_filtered = (df_double\n",
        "  .loc[df_double.slices.trip_start_hour.isin([1,3,5,7])]\n",
        ")\n",
        "display(tfma_dataframe.auto_pivot(df_filtered))"
      ]
    },
    {
      "cell_type": "markdown",
      "metadata": {
        "id": "hSnqI6Esb1XM"
      },
      "source": [
        "### Sortowanie według wartości metrycznych\n",
        "\n",
        "Możemy również sortować wycinki według wartości metryki. Jako przykład pokazujemy, jak sortować wycinki w powyższej ramce DataFrame, zwiększając AUC, abyśmy mogli znaleźć wycinki o niskiej wydajności. Obejmuje to dwa kroki: automatyczne obracanie, tak aby wycinki były reprezentowane jako wiersze, a kolumny to metryki, a następnie sortowanie przestawnej ramki danych według kolumny AUC."
      ]
    },
    {
      "cell_type": "code",
      "execution_count": null,
      "metadata": {
        "id": "fVeZ9saBR8gX"
      },
      "outputs": [

      ],
      "source": [
        "# Pivoted table sorted by AUC in ascending order.\n",
        "df_sorted = (\n",
        "    tfma_dataframe.auto_pivot(df_double)\n",
        "    .sort_values(by='auc', ascending=True)\n",
        "    )\n",
        "display(df_sorted.head())"
      ]
    },
    {
      "cell_type": "markdown",
      "metadata": {
        "id": "f8acksU33KMm"
      },
      "source": [
        "### Wykresy renderowania\n",
        "\n",
        "Wszelkie wykresy, które zostały dodane do `tfma.EvalConfig` jako `metric_specs` po szkoleniu, można wyświetlić za pomocą [`tfma.view.render_plot`](https://www.tensorflow.org/tfx/model_analysis/api_docs/python/tfma/view/render_plot) .\n",
        "\n",
        "Podobnie jak w przypadku metryk, wykresy można przeglądać według wycinków. W przeciwieństwie do metryk, można wyświetlić tylko wykresy dla określonej wartości wycinka, więc należy użyć parametru `tfma.SlicingSpec` , który musi określać zarówno nazwę, jak i wartość elementu wycinka. Jeśli nie podano wycinka, używane są wykresy dla wycinka `Overall` .\n",
        "\n",
        "W poniższym przykładzie wyświetlamy wykresy `CalibrationPlot` i `ConfusionMatrixPlot` , które zostały obliczone dla wycinka `trip_start_hour:1` ."
      ]
    },
    {
      "cell_type": "code",
      "execution_count": null,
      "metadata": {
        "id": "X4TCKjGw3S-a"
      },
      "outputs": [

      ],
      "source": [
        "tfma.view.render_plot(\n",
        "    eval_result,\n",
        "    tfma.SlicingSpec(feature_values={'trip_start_hour': '1'}))"
      ]
    },
    {
      "cell_type": "markdown",
      "metadata": {
        "id": "meRvFkKcPbux"
      },
      "source": [
        "## Śledzenie wydajności modelu w czasie\n",
        "\n",
        "Twój zestaw danych szkoleniowych zostanie użyty do szkolenia Twojego modelu i, miejmy nadzieję, będzie reprezentatywny dla Twojego testowego zestawu danych oraz danych, które zostaną wysłane do Twojego modelu w produkcji. Jednak chociaż dane w żądaniach wnioskowania mogą pozostać takie same jak dane szkoleniowe, w wielu przypadkach zaczną się zmieniać na tyle, że zmieni się wydajność modelu.\n",
        "\n",
        "Oznacza to, że musisz na bieżąco monitorować i mierzyć wydajność swojego modelu, aby być świadomym zmian i reagować na nie. Przyjrzyjmy się, jak TFMA może pomóc.\n",
        "\n",
        "Załadujmy 3 różne przebiegi modelu i użyjmy TFMA, aby zobaczyć, jak się porównują, używając [`render_time_series`](https://www.tensorflow.org/tfx/model_analysis/api_docs/python/tfma/view/render_time_series) ."
      ]
    },
    {
      "cell_type": "code",
      "execution_count": null,
      "metadata": {
        "id": "zJYUOjmFfuPy"
      },
      "outputs": [

      ],
      "source": [
        "# Note this re-uses the EvalConfig from the keras setup.\n",
        "\n",
        "# Run eval on each saved model\n",
        "output_paths = []\n",
        "for i in range(3):\n",
        "  # Create a tfma.EvalSharedModel that points at our saved model.\n",
        "  eval_shared_model = tfma.default_eval_shared_model(\n",
        "      eval_saved_model_path=os.path.join(MODELS_DIR, 'keras', str(i)),\n",
        "      eval_config=keras_eval_config)\n",
        "\n",
        "  output_path = os.path.join(OUTPUT_DIR, 'time_series', str(i))\n",
        "  output_paths.append(output_path)\n",
        "\n",
        "  # Run TFMA\n",
        "  tfma.run_model_analysis(eval_shared_model=eval_shared_model,\n",
        "                          eval_config=keras_eval_config,\n",
        "                          data_location=tfrecord_file,\n",
        "                          output_path=output_path)"
      ]
    },
    {
      "cell_type": "markdown",
      "metadata": {
        "id": "RsO-gqCRK0ar"
      },
      "source": [
        "Najpierw wyobraźmy sobie, że wczoraj wytrenowaliśmy i wdrożyliśmy nasz model, a teraz chcemy zobaczyć, jak sobie radzi z nowymi danymi, które napływają dzisiaj. Wizualizacja rozpocznie się od wyświetlenia AUC. Z poziomu interfejsu użytkownika możesz:\n",
        "\n",
        "- Dodaj inne dane, korzystając z menu „Dodaj serię danych”.\n",
        "- Zamknij niechciane wykresy, klikając x\n",
        "- Najedź kursorem na punkty danych (końce segmentów linii na wykresie), aby uzyskać więcej szczegółów\n",
        "\n",
        "Uwaga: Na wykresach serii metrycznych oś X to nazwa katalogu modelu badanego przebiegu modelu. Same te nazwy nie mają znaczenia."
      ]
    },
    {
      "cell_type": "code",
      "execution_count": null,
      "metadata": {
        "id": "KjEws8T0cDm9"
      },
      "outputs": [

      ],
      "source": [
        "eval_results_from_disk = tfma.load_eval_results(output_paths[:2])\n",
        "\n",
        "tfma.view.render_time_series(eval_results_from_disk)"
      ]
    },
    {
      "cell_type": "markdown",
      "metadata": {
        "id": "EQ7kZxESN9Bx"
      },
      "source": [
        "Teraz wyobraźmy sobie, że minął kolejny dzień i chcemy zobaczyć, jak radzi sobie z napływającymi dziś nowymi danymi w porównaniu z poprzednimi dwoma dniami:"
      ]
    },
    {
      "cell_type": "code",
      "execution_count": null,
      "metadata": {
        "id": "VjQmlXMmLwHf"
      },
      "outputs": [

      ],
      "source": [
        "eval_results_from_disk = tfma.load_eval_results(output_paths)\n",
        "\n",
        "tfma.view.render_time_series(eval_results_from_disk)"
      ]
    },
    {
      "cell_type": "markdown",
      "metadata": {
        "id": "N1jpShgQxlVL"
      },
      "source": [
        "## Walidacja modelu\n",
        "\n",
        "TFMA można skonfigurować do jednoczesnej oceny wielu modeli. Zwykle robi się to w celu porównania nowego modelu z linią bazową (taką jak model aktualnie obsługujący) w celu określenia, jakie są różnice wydajności w metrykach (np. AUC itp.) w stosunku do linii bazowej. Po skonfigurowaniu [progów](https://www.tensorflow.org/tfx/model_analysis/api_docs/python/tfma/MetricThreshold) TFMA wygeneruje rekord [`tfma.ValidationResult`](https://www.tensorflow.org/tfx/model_analysis/api_docs/python/tfma/ValidationResult) wskazujący, czy wydajność jest zgodna z oczekiwaniami.\n",
        "\n",
        "Skonfigurujmy ponownie naszą ocenę keras, aby porównać dwa modele: kandydata i linię bazową. Zweryfikujemy również wyniki kandydata w odniesieniu do poziomu bazowego, ustawiając wartość [`tmfa.MetricThreshold`](https://www.tensorflow.org/tfx/model_analysis/api_docs/python/tfma/MetricThreshold) dla metryki AUC."
      ]
    },
    {
      "cell_type": "code",
      "execution_count": null,
      "metadata": {
        "id": "kkatdR6Y1-4G"
      },
      "outputs": [

      ],
      "source": [
        "# Setup tfma.EvalConfig setting\n",
        "eval_config_with_thresholds = text_format.Parse(\"\"\"\n",
        "  ## Model information\n",
        "  model_specs {\n",
        "    name: \"candidate\"\n",
        "    # For keras we need to add a `label_key`.\n",
        "    label_key: \"big_tipper\"\n",
        "  }\n",
        "  model_specs {\n",
        "    name: \"baseline\"\n",
        "    # For keras we need to add a `label_key`.\n",
        "    label_key: \"big_tipper\"\n",
        "    is_baseline: true\n",
        "  }\n",
        "\n",
        "  ## Post training metric information\n",
        "  metrics_specs {\n",
        "    metrics { class_name: \"ExampleCount\" }\n",
        "    metrics { class_name: \"BinaryAccuracy\" }\n",
        "    metrics { class_name: \"BinaryCrossentropy\" }\n",
        "    metrics {\n",
        "      class_name: \"AUC\"\n",
        "      threshold {\n",
        "        # Ensure that AUC is always > 0.9\n",
        "        value_threshold {\n",
        "          lower_bound { value: 0.9 }\n",
        "        }\n",
        "        # Ensure that AUC does not drop by more than a small epsilon\n",
        "        # e.g. (candidate - baseline) > -1e-10 or candidate > baseline - 1e-10\n",
        "        change_threshold {\n",
        "          direction: HIGHER_IS_BETTER\n",
        "          absolute { value: -1e-10 }\n",
        "        }\n",
        "      }\n",
        "    }\n",
        "    metrics { class_name: \"AUCPrecisionRecall\" }\n",
        "    metrics { class_name: \"Precision\" }\n",
        "    metrics { class_name: \"Recall\" }\n",
        "    metrics { class_name: \"MeanLabel\" }\n",
        "    metrics { class_name: \"MeanPrediction\" }\n",
        "    metrics { class_name: \"Calibration\" }\n",
        "    metrics { class_name: \"CalibrationPlot\" }\n",
        "    metrics { class_name: \"ConfusionMatrixPlot\" }\n",
        "    # ... add additional metrics and plots ...\n",
        "  }\n",
        "\n",
        "  ## Slicing information\n",
        "  slicing_specs {}  # overall slice\n",
        "  slicing_specs {\n",
        "    feature_keys: [\"trip_start_hour\"]\n",
        "  }\n",
        "  slicing_specs {\n",
        "    feature_keys: [\"trip_start_day\"]\n",
        "  }\n",
        "  slicing_specs {\n",
        "    feature_keys: [\"trip_start_month\"]\n",
        "  }\n",
        "  slicing_specs {\n",
        "    feature_keys: [\"trip_start_hour\", \"trip_start_day\"]\n",
        "  }\n",
        "\"\"\", tfma.EvalConfig())\n",
        "\n",
        "# Create tfma.EvalSharedModels that point at our keras models.\n",
        "candidate_model_path = os.path.join(MODELS_DIR, 'keras', '2')\n",
        "baseline_model_path = os.path.join(MODELS_DIR, 'keras', '1')\n",
        "eval_shared_models = [\n",
        "  tfma.default_eval_shared_model(\n",
        "      model_name=tfma.CANDIDATE_KEY,\n",
        "      eval_saved_model_path=candidate_model_path,\n",
        "      eval_config=eval_config_with_thresholds),\n",
        "  tfma.default_eval_shared_model(\n",
        "      model_name=tfma.BASELINE_KEY,\n",
        "      eval_saved_model_path=baseline_model_path,\n",
        "      eval_config=eval_config_with_thresholds),\n",
        "]\n",
        "\n",
        "validation_output_path = os.path.join(OUTPUT_DIR, 'validation')\n",
        "\n",
        "# Run TFMA\n",
        "eval_result_with_validation = tfma.run_model_analysis(\n",
        "    eval_shared_models,\n",
        "    eval_config=eval_config_with_thresholds,\n",
        "    data_location=tfrecord_file,\n",
        "    output_path=validation_output_path)"
      ]
    },
    {
      "cell_type": "markdown",
      "metadata": {
        "id": "siF6npd3IfJq"
      },
      "source": [
        "Podczas przeprowadzania ewaluacji z jednym lub kilkoma modelami względem linii bazowej, TFMA automatycznie dodaje metryki diff dla wszystkich metryk obliczonych podczas ewaluacji. Nazwy tych metryk pochodzą od odpowiednich metryk, ale z `_diff` dołączonym do nazwy metryki.\n",
        "\n",
        "Przyjrzyjmy się metrykom wygenerowanym przez nasz przebieg:"
      ]
    },
    {
      "cell_type": "code",
      "execution_count": null,
      "metadata": {
        "id": "yGIw9TDuJ7wn"
      },
      "outputs": [

      ],
      "source": [
        "tfma.view.render_time_series(eval_result_with_validation)"
      ]
    },
    {
      "cell_type": "markdown",
      "metadata": {
        "id": "JIsehm_V4oKU"
      },
      "source": [
        "Teraz spójrzmy na dane wyjściowe z naszych kontroli poprawności. Aby wyświetlić wyniki walidacji, używamy [`tfma.load_validator_result`](https://www.tensorflow.org/tfx/model_analysis/api_docs/python/tfma/load_validation_result) . W naszym przykładzie sprawdzanie poprawności kończy się niepowodzeniem, ponieważ AUC jest poniżej progu."
      ]
    },
    {
      "cell_type": "code",
      "execution_count": null,
      "metadata": {
        "id": "48EdSTUW5eE1"
      },
      "outputs": [

      ],
      "source": [
        "validation_result = tfma.load_validation_result(validation_output_path)\n",
        "print(validation_result.validation_ok)"
      ]
    },
    {
      "cell_type": "markdown",
      "metadata": {
        "id": "tghWegsjhpkt"
      },
      "source": [
        "# Copyright © 2020 Autorzy TensorFlow."
      ]
    },
    {
      "cell_type": "code",
      "execution_count": null,
      "metadata": {
        "cellView": "form",
        "id": "rSGJWC5biBiG"
      },
      "outputs": [

      ],
      "source": [
        "#@title Licensed under the Apache License, Version 2.0 (the \"License\");\n",
        "# you may not use this file except in compliance with the License.\n",
        "# You may obtain a copy of the License at\n",
        "#\n",
        "# https://www.apache.org/licenses/LICENSE-2.0\n",
        "#\n",
        "# Unless required by applicable law or agreed to in writing, software\n",
        "# distributed under the License is distributed on an \"AS IS\" BASIS,\n",
        "# WITHOUT WARRANTIES OR CONDITIONS OF ANY KIND, either express or implied.\n",
        "# See the License for the specific language governing permissions and\n",
        "# limitations under the License."
      ]
    },
    {
      "cell_type": "markdown",
      "metadata": {
        "id": "tvsmelXGasty"
      },
      "source": [
        "Uwaga: Ta witryna zawiera aplikacje korzystające z danych, które zostały zmodyfikowane do użytku z oryginalnego źródła, www.cityofchicago.org, oficjalnej witryny internetowej miasta Chicago. Miasto Chicago nie zgłasza żadnych roszczeń co do treści, dokładności, aktualności ani kompletności jakichkolwiek danych udostępnianych na tej stronie. Dane podane na tej stronie mogą ulec zmianie w dowolnym momencie. Rozumie się, że dane podane na tej stronie są wykorzystywane na własne ryzyko."
      ]
    }
  ],
  "metadata": {
    "accelerator": "GPU",
    "colab": {
      "name": "tfma_basic.ipynb",
      "toc_visible": true
    },
    "kernelspec": {
      "display_name": "Python 3",
      "name": "python3"
    }
  },
  "nbformat": 4,
  "nbformat_minor": 0
}
